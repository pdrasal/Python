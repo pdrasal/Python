{
 "cells": [
  {
   "cell_type": "markdown",
   "metadata": {},
   "source": [
    "Utilizaremos el módulo urllib para rastrear la página web:"
   ]
  },
  {
   "cell_type": "code",
   "execution_count": null,
   "metadata": {},
   "outputs": [],
   "source": [
    "import urllib.request\n",
    "response = urllib.request.urlopen('https://www.cronica.com.ar/')\n",
    "html = response.read()\n",
    "print (html)"
   ]
  },
  {
   "cell_type": "markdown",
   "metadata": {},
   "source": [
    "Como puedes ver en la salida impresa, el resultado contiene muchas etiquetas HTML que deben limpiarse.\n",
    "Podemos usar BeautifulSoup para limpiar el texto capturado de esta manera:"
   ]
  },
  {
   "cell_type": "code",
   "execution_count": null,
   "metadata": {},
   "outputs": [],
   "source": [
    "from bs4 import BeautifulSoup\n",
    "import urllib.request\n",
    "response = urllib.request.urlopen('https://www.cronica.com.ar/')\n",
    "html = response.read()\n",
    "soup = BeautifulSoup(html,\"html5lib\")\n",
    "text = soup.get_text(strip=True)\n",
    "print (text)"
   ]
  },
  {
   "cell_type": "markdown",
   "metadata": {},
   "source": [
    "Ahora tenemos el texto limpio de la página web rastreada. \n",
    "Finalmente, convirtamos ese texto en tokens dividiendo el texto de esta manera:"
   ]
  },
  {
   "cell_type": "code",
   "execution_count": null,
   "metadata": {},
   "outputs": [],
   "source": [
    "from bs4 import BeautifulSoup\n",
    " \n",
    "import urllib.request\n",
    " \n",
    "response = urllib.request.urlopen('https://www.cronica.com.ar/')\n",
    " \n",
    "html = response.read()\n",
    " \n",
    "soup = BeautifulSoup(html,\"html5lib\")\n",
    " \n",
    "text = soup.get_text(strip=True)\n",
    " \n",
    "tokens = [t for t in text.split()]\n",
    " \n",
    "print (tokens)"
   ]
  },
  {
   "cell_type": "markdown",
   "metadata": {},
   "source": [
    "Contar la frecuencia de palabras:\n",
    "Calculemos la distribución de frecuencia de esos tokens usando Python NLTK.\n",
    "Hay una función en NLTK llamada FreqDist() hace el trabajo:\n",
    "Si buscas el resultado, verás que el token más frecuente es PHP."
   ]
  },
  {
   "cell_type": "code",
   "execution_count": null,
   "metadata": {},
   "outputs": [],
   "source": [
    "from bs4 import BeautifulSoup\n",
    " \n",
    "import urllib.request\n",
    " \n",
    "import nltk\n",
    " \n",
    "response = urllib.request.urlopen('https://www.cronica.com.ar/')\n",
    " \n",
    "html = response.read()\n",
    " \n",
    "soup = BeautifulSoup(html,\"html5lib\")\n",
    " \n",
    "text = soup.get_text(strip=True)\n",
    " \n",
    "tokens = [t for t in text.split()]\n",
    " \n",
    "freq = nltk.FreqDist(tokens)\n",
    " \n",
    "for key,val in freq.items():\n",
    " \n",
    "    print (str(key) + ':' + str(val))"
   ]
  },
  {
   "cell_type": "code",
   "execution_count": null,
   "metadata": {},
   "outputs": [],
   "source": [
    "freq.plot(20, cumulative=False)"
   ]
  },
  {
   "cell_type": "code",
   "execution_count": null,
   "metadata": {},
   "outputs": [],
   "source": []
  }
 ],
 "metadata": {
  "kernelspec": {
   "display_name": "Python 3",
   "language": "python",
   "name": "python3"
  },
  "language_info": {
   "codemirror_mode": {
    "name": "ipython",
    "version": 3
   },
   "file_extension": ".py",
   "mimetype": "text/x-python",
   "name": "python",
   "nbconvert_exporter": "python",
   "pygments_lexer": "ipython3",
   "version": "3.7.4"
  }
 },
 "nbformat": 4,
 "nbformat_minor": 2
}
