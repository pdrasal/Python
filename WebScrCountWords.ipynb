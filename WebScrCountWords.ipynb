{
 "cells": [
  {
   "cell_type": "code",
   "execution_count": 2,
   "metadata": {},
   "outputs": [
    {
     "name": "stderr",
     "output_type": "stream",
     "text": [
      "[nltk_data] Downloading package stopwords to\n",
      "[nltk_data]     C:\\Users\\Administrator\\AppData\\Roaming\\nltk_data...\n",
      "[nltk_data]   Package stopwords is already up-to-date!\n"
     ]
    },
    {
     "data": {
      "text/plain": [
       "True"
      ]
     },
     "execution_count": 2,
     "metadata": {},
     "output_type": "execute_result"
    }
   ],
   "source": [
    "from bs4 import BeautifulSoup\n",
    "import urllib.request\n",
    "import nltk\n",
    "nltk.download('stopwords')\n",
    " "
   ]
  },
  {
   "cell_type": "markdown",
   "metadata": {},
   "source": [
    "##### FIRST SECTION TOKENIZE AND STOP WORDS ##### "
   ]
  },
  {
   "cell_type": "code",
   "execution_count": 3,
   "metadata": {},
   "outputs": [],
   "source": [
    "def stop_words(text,lenguage):\n",
    "    stopwords = set(nltk.corpus.stopwords.words(lenguage))\n",
    "    stopwords.update(['.','=', ',', '\"', \"'\", '?', '!', ':', ';', '(', ')', '[', ']', '{', '}'])\n",
    "    text_new=text.split()    \n",
    "    content = [w for w in text_new if w.lower() not in stopwords]\n",
    "    return(content)"
   ]
  },
  {
   "cell_type": "code",
   "execution_count": 5,
   "metadata": {},
   "outputs": [
    {
     "name": "stdout",
     "output_type": "stream",
     "text": [
      "[('freedom', 19), ('Negro', 13), ('come', 10), ('every', 10), ('day', 10), ('one', 9), ('ring', 9), ('go', 8), ('back', 8), ('must', 8), ('able', 8), ('nation', 7), ('dream', 7), ('American', 6), ('long', 6), ('white', 6), ('cannot', 6), ('satisfied', 6), ('years', 5), ('great', 5), ('America', 5), ('time', 5), ('shall', 5), ('together,', 5), ('Luther', 4), ('audio', 4), ('today', 4), ('hundred', 4), ('later,', 4), ('still', 4), ('black', 4), ('us', 4), ('let', 4), ('Martin', 3), ('join', 3), ('stand', 3), ('today,', 3), ('One', 3), (\"we've\", 3), ('words', 3), ('men,', 3), ('men', 3), ('justice', 3), ('make', 3), ('rise', 3), ('valley', 3), (\"God's\", 3), ('sweltering', 3), ('content', 3), ('never', 3)]\n"
     ]
    },
    {
     "data": {
      "image/png": "[encoded data removed]",
      "text/plain": [
       "<Figure size 432x288 with 1 Axes>"
      ]
     },
     "metadata": {
      "needs_background": "light"
     },
     "output_type": "display_data"
    },
    {
     "data": {
      "text/plain": [
       "<matplotlib.axes._subplots.AxesSubplot at 0x25745480508>"
      ]
     },
     "execution_count": 5,
     "metadata": {},
     "output_type": "execute_result"
    }
   ],
   "source": [
    "response = urllib.request.urlopen('https://www.americanrhetoric.com/speeches/mlkihaveadream.htm')\n",
    "html = response.read()\n",
    "soup = BeautifulSoup(html,\"html5lib\")\n",
    "text = soup.get_text(strip=True)\n",
    "nuevo_texto= stop_words(text,'english')\n",
    "freq = nltk.FreqDist(nuevo_texto)\n",
    "print(freq.most_common(50))\n",
    "freq.plot(20, cumulative=False)"
   ]
  },
  {
   "cell_type": "code",
   "execution_count": null,
   "metadata": {},
   "outputs": [],
   "source": []
  }
 ],
 "metadata": {
  "kernelspec": {
   "display_name": "Python 3",
   "language": "python",
   "name": "python3"
  },
  "language_info": {
   "codemirror_mode": {
    "name": "ipython",
    "version": 3
   },
   "file_extension": ".py",
   "mimetype": "text/x-python",
   "name": "python",
   "nbconvert_exporter": "python",
   "pygments_lexer": "ipython3",
   "version": "3.7.4"
  }
 },
 "nbformat": 4,
 "nbformat_minor": 2
}
