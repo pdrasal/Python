{
 "cells": [
  {
   "cell_type": "code",
   "execution_count": 2,
   "metadata": {},
   "outputs": [
    {
     "name": "stdout",
     "output_type": "stream",
     "text": [
      "<FreqDist with 488 samples and 4430 outcomes>\n"
     ]
    },
    {
     "data": {
      "text/plain": [
       "[('PHP', 189),\n",
       " ('the', 174),\n",
       " ('of', 138),\n",
       " ('release', 123),\n",
       " ('can', 108),\n",
       " ('in', 106),\n",
       " ('for', 106),\n",
       " ('and', 98),\n",
       " ('found', 98),\n",
       " ('be', 95),\n",
       " ('is', 77),\n",
       " ('you', 56),\n",
       " ('to', 45),\n",
       " ('this', 45),\n",
       " ('source', 42),\n",
       " ('list', 40),\n",
       " ('version', 39),\n",
       " ('test', 39),\n",
       " ('a', 36),\n",
       " ('also', 36),\n",
       " ('team', 35),\n",
       " ('downloads', 35),\n",
       " ('please', 35),\n",
       " ('visit', 35),\n",
       " ('on', 34),\n",
       " ('read', 33),\n",
       " ('next', 30),\n",
       " ('DO', 28),\n",
       " ('NOT', 28),\n",
       " ('report', 28),\n",
       " ('any', 28),\n",
       " ('thebug', 28),\n",
       " ('information', 28),\n",
       " ('new', 28),\n",
       " ('features', 28),\n",
       " ('other', 28),\n",
       " ('changes,', 28),\n",
       " ('theNEWSfile,', 28),\n",
       " ('or', 28),\n",
       " ('theUPGRADINGfile', 28),\n",
       " ('complete', 28),\n",
       " ('upgrading', 28),\n",
       " ('notes.', 28),\n",
       " ('These', 28),\n",
       " ('files', 28),\n",
       " ('planned', 28),\n",
       " ('helping', 28),\n",
       " ('us', 28),\n",
       " ('make', 28),\n",
       " ('more', 27)]"
      ]
     },
     "execution_count": 2,
     "metadata": {},
     "output_type": "execute_result"
    }
   ],
   "source": [
    "from bs4 import BeautifulSoup\n",
    "import urllib.request\n",
    "import nltk\n",
    " \n",
    "response = urllib.request.urlopen('http://php.net/')\n",
    "html = response.read()\n",
    "soup = BeautifulSoup(html,\"html5lib\")\n",
    "text = soup.get_text(strip=True)\n",
    "tokens = [t for t in text.split()]\n",
    "\n",
    "freq = nltk.FreqDist(tokens)\n",
    "print(freq) \n",
    "freq.most_common(50) \n",
    "#fdist1['php']\n"
   ]
  },
  {
   "cell_type": "code",
   "execution_count": 4,
   "metadata": {},
   "outputs": [
    {
     "data": {
      "image/png": "[encoded data removed]",
      "text/plain": [
       "<Figure size 432x288 with 1 Axes>"
      ]
     },
     "metadata": {
      "needs_background": "light"
     },
     "output_type": "display_data"
    },
    {
     "data": {
      "text/plain": [
       "<matplotlib.axes._subplots.AxesSubplot at 0x22a6af36a20>"
      ]
     },
     "execution_count": 4,
     "metadata": {},
     "output_type": "execute_result"
    }
   ],
   "source": [
    "freq.plot(20, cumulative=False)"
   ]
  },
  {
   "cell_type": "code",
   "execution_count": null,
   "metadata": {},
   "outputs": [],
   "source": []
  }
 ],
 "metadata": {
  "kernelspec": {
   "display_name": "Python 3",
   "language": "python",
   "name": "python3"
  },
  "language_info": {
   "codemirror_mode": {
    "name": "ipython",
    "version": 3
   },
   "file_extension": ".py",
   "mimetype": "text/x-python",
   "name": "python",
   "nbconvert_exporter": "python",
   "pygments_lexer": "ipython3",
   "version": "3.7.3"
  }
 },
 "nbformat": 4,
 "nbformat_minor": 2
}
